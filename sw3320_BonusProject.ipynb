{
 "cells": [
  {
   "cell_type": "code",
   "execution_count": 1,
   "metadata": {},
   "outputs": [],
   "source": [
    "import numpy as np\n",
    "import pandas as pd"
   ]
  },
  {
   "cell_type": "markdown",
   "metadata": {},
   "source": [
    "## Step1 download dataset"
   ]
  },
  {
   "cell_type": "code",
   "execution_count": 2,
   "metadata": {},
   "outputs": [],
   "source": [
    "from sklearn import preprocessing"
   ]
  },
  {
   "cell_type": "code",
   "execution_count": 3,
   "metadata": {
    "scrolled": false
   },
   "outputs": [
    {
     "name": "stderr",
     "output_type": "stream",
     "text": [
      "C:\\Users\\wsyou\\Anaconda3\\lib\\site-packages\\ipykernel_launcher.py:1: ParserWarning: Falling back to the 'python' engine because the 'c' engine does not support regex separators (separators > 1 char and different from '\\s+' are interpreted as regex); you can avoid this warning by specifying engine='python'.\n",
      "  \"\"\"Entry point for launching an IPython kernel.\n",
      "C:\\Users\\wsyou\\Anaconda3\\lib\\site-packages\\ipykernel_launcher.py:2: ParserWarning: Falling back to the 'python' engine because the 'c' engine does not support regex separators (separators > 1 char and different from '\\s+' are interpreted as regex); you can avoid this warning by specifying engine='python'.\n",
      "  \n",
      "C:\\Users\\wsyou\\Anaconda3\\lib\\site-packages\\ipykernel_launcher.py:3: ParserWarning: Falling back to the 'python' engine because the 'c' engine does not support regex separators (separators > 1 char and different from '\\s+' are interpreted as regex); you can avoid this warning by specifying engine='python'.\n",
      "  This is separate from the ipykernel package so we can avoid doing imports until\n"
     ]
    }
   ],
   "source": [
    "movies = pd.read_csv('movies.dat', sep = '::', index_col = 0, names = ['MovieID','Title','Genres'])\n",
    "ratings = pd.read_csv('ratings.dat', sep = '::', header = None, names = ['UserID','MovieID','Rating','Timestamp'])\n",
    "users = pd.read_csv('users.dat', sep = '::', index_col = 0, header = None, names = ['UserID','Gender','Age','Occupation','Zip-code'])"
   ]
  },
  {
   "cell_type": "code",
   "execution_count": 4,
   "metadata": {},
   "outputs": [],
   "source": [
    "le_user = preprocessing.LabelEncoder()\n",
    "users.index = le_user.fit_transform(users.index)\n",
    "ratings['UserID'] = le_user.transform(ratings['UserID'])\n",
    "users.index.name = 'UserID'\n",
    "\n",
    "le_movies = preprocessing.LabelEncoder()\n",
    "movies.index = le_user.fit_transform(movies.index)\n",
    "ratings['MovieID'] = le_user.transform(ratings['MovieID'])\n",
    "movies.index.name = 'MovieID'"
   ]
  },
  {
   "cell_type": "markdown",
   "metadata": {},
   "source": [
    "## Step2 model prediction"
   ]
  },
  {
   "cell_type": "code",
   "execution_count": 5,
   "metadata": {},
   "outputs": [],
   "source": [
    "def r_prediction(mu, b_U, b_I, p, q):\n",
    "    prediction = mu + b_U[:,np.newaxis] + b_I[np.newaxis,:] + np.dot(p, q.T)\n",
    "    return prediction"
   ]
  },
  {
   "cell_type": "markdown",
   "metadata": {},
   "source": [
    "## Step 3&4 split data"
   ]
  },
  {
   "cell_type": "code",
   "execution_count": 6,
   "metadata": {},
   "outputs": [],
   "source": [
    "from sklearn.model_selection import train_test_split"
   ]
  },
  {
   "cell_type": "code",
   "execution_count": 7,
   "metadata": {},
   "outputs": [],
   "source": [
    "ratings_train, ratings_test = train_test_split(ratings,test_size=0.2)\n",
    "ratings_train, ratings_validation = train_test_split(ratings_train,test_size=0.2)"
   ]
  },
  {
   "cell_type": "markdown",
   "metadata": {},
   "source": [
    "## Step5 initialize parameters"
   ]
  },
  {
   "cell_type": "code",
   "execution_count": 8,
   "metadata": {},
   "outputs": [],
   "source": [
    "U = len(users)\n",
    "I = len(movies)"
   ]
  },
  {
   "cell_type": "code",
   "execution_count": 9,
   "metadata": {},
   "outputs": [],
   "source": [
    "def initial_parameters(U,I,F):\n",
    "    b_U_0 = np.random.normal(0,1e-4,U)\n",
    "    b_I_0 = np.random.normal(0,1e-4,I)\n",
    "    p_0 = np.random.normal(0,1/max(1,F**(1/2)),(U,F))\n",
    "    q_0 = np.random.normal(0,1/max(1,F**(1/2)),(I,F))\n",
    "    return b_U_0, b_I_0, p_0, q_0"
   ]
  },
  {
   "cell_type": "markdown",
   "metadata": {},
   "source": [
    "## Step6 Loss function, Gradient function, MSE and StochasticGradientDescent function"
   ]
  },
  {
   "cell_type": "code",
   "execution_count": 10,
   "metadata": {},
   "outputs": [],
   "source": [
    "def Loss(b_U,b_I,p,q,R):\n",
    "    N = len(R)\n",
    "    r_pre = mu + b_U[R['UserID']] + b_I[R['MovieID']] + np.sum(p[R['UserID']]*q[R['MovieID']],axis=1)\n",
    "    loss = sum((r_pre-R['Rating'])**2)/N\n",
    "    penalty = lambda_p/2*np.sum(p**2)*np.sum(q**2)/N\n",
    "    return loss+penalty"
   ]
  },
  {
   "cell_type": "code",
   "execution_count": 502,
   "metadata": {},
   "outputs": [],
   "source": [
    "def StochasticGradientDescent(b_U,b_I,p,q,Ratings,learning_rate=1e-4,tol=1e-7,max_iter=1,batch_size=100000):\n",
    "    MSE_list_train = []\n",
    "    MSE_list_validation = []\n",
    "    b_U_,b_I_,p_,q_ = b_U.copy(),b_I.copy(),p.copy(),q.copy()\n",
    "    import warnings\n",
    "    warnings.filterwarnings(\"ignore\")\n",
    "    N = Ratings.shape[0]\n",
    "    for e in range(max_iter):\n",
    "#         if (e%(max_iter//10)==0):\n",
    "#             print('...' + str(e) + 'Loss:' + str(L))\n",
    "        perm=np.random.permutation(N)\n",
    "        for batch in range(0,N,batch_size):\n",
    "            R = Ratings.iloc[perm[batch:batch+batch_size]]\n",
    "            U = R['UserID']\n",
    "            I = R['MovieID']\n",
    "            r_pre = mu + b_U_[U] + b_I_[I] + np.sum(p_[U]*q_[I])\n",
    "            Delta = R['Rating'] - r_pre\n",
    "            for index in range(len(R)):\n",
    "                u = U.iloc[index]\n",
    "                i = I.iloc[index]\n",
    "                delta = Delta.iloc[index]\n",
    "                delta_b_U = -1 * delta\n",
    "                delta_b_I = -1 * delta\n",
    "                delta_p = -1 * q_[i] * delta + lambda_p * p_[u]\n",
    "                delta_q = -1 * p_[u] * delta + lambda_p * q_[i]\n",
    "            \n",
    "                b_U_[u] = -1*learning_rate*delta_b_U + b_U_[u]\n",
    "                b_I_[i] = -1*learning_rate*delta_b_I + b_I_[i]\n",
    "                p_[u] = -1*learning_rate*delta_p + p_[u]\n",
    "                q_[i] = -1*learning_rate*delta_q + q_[i]\n",
    "#             if((batch//batch_size)%100==0):\n",
    "#                 print('The '+ str((batch//batch_size)+1) +'st batch has been finished')\n",
    "#                 print('epoch: ' + str(e) + '; MSE of validation set: ' + str(MSE(b_U_,b_I_,p_,q_,ratings_validation)))\n",
    "#                 MSE_list.append(MSE(b_U_,b_I_,p_,q_,ratings_validation))\n",
    "            if((batch//batch_size)%2000==0):\n",
    "                print('The '+ str((batch//batch_size)+1) +'st batch has been finished')\n",
    "                print('epoch: ' + str(e) + '; MSE of test set: ' + str(MSE(b_U_,b_I_,p_,q_,X_test)))\n",
    "#                 MSE_list_train.append(MSE(b_U_,b_I_,p_,q_,ratings_train))\n",
    "#                 MSE_list_validation.append(MSE(b_U_,b_I_,p_,q_,ratings_validation))\n",
    "        #print('epoch: ' + str(e) + '; Loss: ' + str(Loss(b_U_,b_I_,p_,q_,Ratings)))\n",
    "#         print('epoch: ' + str(e) + '; MSE: ' + str(MSE(b_U_,b_I_,p_,q_,ratings_validation)))\n",
    "   \n",
    "\n",
    "    return b_U_,b_I_,p_,q_\n",
    "    #return MSE(b_U_,b_I_,p_,q_,X_test)"
   ]
  },
  {
   "cell_type": "code",
   "execution_count": 33,
   "metadata": {},
   "outputs": [],
   "source": [
    "def MSE(b_U,b_I,p,q,R):\n",
    "    N = len(R)\n",
    "    r_pre = mu + b_U[R['UserID']] + b_I[R['MovieID']] + np.sum(p[R['UserID']]*q[R['MovieID']],axis=1)\n",
    "    mse = sum((r_pre-R['Rating'])**2)/N\n",
    "    return mse"
   ]
  },
  {
   "cell_type": "markdown",
   "metadata": {},
   "source": [
    "## Step7 best learning_rate when F=0"
   ]
  },
  {
   "cell_type": "code",
   "execution_count": 462,
   "metadata": {},
   "outputs": [],
   "source": [
    "F = 0\n",
    "b_U_0, b_I_0, p_0, q_0 = initial_parameters(U,I,F)\n",
    "lambda_p = .1\n",
    "mu = ratings_train['Rating'].mean()"
   ]
  },
  {
   "cell_type": "code",
   "execution_count": 401,
   "metadata": {},
   "outputs": [
    {
     "name": "stdout",
     "output_type": "stream",
     "text": [
      "The 1st batch has been finished\n",
      "epoch: 0; MSE of validation set: 1.2499559111892997\n",
      "The 1001st batch has been finished\n",
      "epoch: 0; MSE of validation set: 1.0785096644803869\n",
      "The 2001st batch has been finished\n",
      "epoch: 0; MSE of validation set: 1.0032940575560343\n",
      "The 3001st batch has been finished\n",
      "epoch: 0; MSE of validation set: 0.9595038410893117\n",
      "The 4001st batch has been finished\n",
      "epoch: 0; MSE of validation set: 0.9325686721761346\n",
      "The 5001st batch has been finished\n",
      "epoch: 0; MSE of validation set: 0.9128093912777672\n",
      "The 6001st batch has been finished\n",
      "epoch: 0; MSE of validation set: 0.8982053930253701\n"
     ]
    }
   ],
   "source": [
    "StochasticGradientDescent(b_U_0,b_I_0,p_0,q_0,ratings_train,learning_rate=.005,tol=1e-7,max_iter=1,batch_size=100)"
   ]
  },
  {
   "cell_type": "code",
   "execution_count": 402,
   "metadata": {},
   "outputs": [
    {
     "name": "stdout",
     "output_type": "stream",
     "text": [
      "The 1st batch has been finished\n",
      "epoch: 0; MSE of validation set: 1.248207477187116\n",
      "The 1001st batch has been finished\n",
      "epoch: 0; MSE of validation set: 0.9055598259105674\n",
      "The 2001st batch has been finished\n",
      "epoch: 0; MSE of validation set: 0.8760431675542383\n",
      "The 3001st batch has been finished\n",
      "epoch: 0; MSE of validation set: 0.865106064618696\n",
      "The 4001st batch has been finished\n",
      "epoch: 0; MSE of validation set: 0.8612267667182977\n",
      "The 5001st batch has been finished\n",
      "epoch: 0; MSE of validation set: 0.8596003208449029\n",
      "The 6001st batch has been finished\n",
      "epoch: 0; MSE of validation set: 0.8598416980319908\n"
     ]
    }
   ],
   "source": [
    "StochasticGradientDescent(b_U_0,b_I_0,p_0,q_0,ratings_train,learning_rate=.05,tol=1e-7,max_iter=1,batch_size=100)"
   ]
  },
  {
   "cell_type": "code",
   "execution_count": 403,
   "metadata": {},
   "outputs": [
    {
     "name": "stdout",
     "output_type": "stream",
     "text": [
      "The 1st batch has been finished\n",
      "epoch: 0; MSE of validation set: 1.2470648314073087\n",
      "The 1001st batch has been finished\n",
      "epoch: 0; MSE of validation set: 0.9225074283020802\n",
      "The 2001st batch has been finished\n",
      "epoch: 0; MSE of validation set: 0.9098319372860267\n",
      "The 3001st batch has been finished\n",
      "epoch: 0; MSE of validation set: 0.9088591529639997\n",
      "The 4001st batch has been finished\n",
      "epoch: 0; MSE of validation set: 0.9084563723089607\n",
      "The 5001st batch has been finished\n",
      "epoch: 0; MSE of validation set: 0.8986462532715881\n",
      "The 6001st batch has been finished\n",
      "epoch: 0; MSE of validation set: 0.9038721983650242\n"
     ]
    }
   ],
   "source": [
    "StochasticGradientDescent(b_U_0,b_I_0,p_0,q_0,ratings_train,learning_rate=.1,tol=1e-7,max_iter=1,batch_size=100)"
   ]
  },
  {
   "cell_type": "markdown",
   "metadata": {},
   "source": [
    "### So set learning rate = .05"
   ]
  },
  {
   "cell_type": "markdown",
   "metadata": {},
   "source": [
    "## Step 8 record performance when F=0"
   ]
  },
  {
   "cell_type": "code",
   "execution_count": 416,
   "metadata": {},
   "outputs": [
    {
     "name": "stdout",
     "output_type": "stream",
     "text": [
      "The 1st batch has been finished\n",
      "epoch: 0; MSE of validation set: 1.248389106485843\n",
      "The 1001st batch has been finished\n",
      "epoch: 0; MSE of validation set: 0.9033482113884976\n",
      "The 2001st batch has been finished\n",
      "epoch: 0; MSE of validation set: 0.8774494951809327\n",
      "The 3001st batch has been finished\n",
      "epoch: 0; MSE of validation set: 0.8671313833899423\n",
      "The 4001st batch has been finished\n",
      "epoch: 0; MSE of validation set: 0.8596657470199451\n",
      "The 5001st batch has been finished\n",
      "epoch: 0; MSE of validation set: 0.8575699105131797\n",
      "The 6001st batch has been finished\n",
      "epoch: 0; MSE of validation set: 0.8588603168594942\n",
      "The 1st batch has been finished\n",
      "epoch: 1; MSE of validation set: 0.8571524881125435\n",
      "The 1001st batch has been finished\n",
      "epoch: 1; MSE of validation set: 0.8581153266101367\n",
      "The 2001st batch has been finished\n",
      "epoch: 1; MSE of validation set: 0.8607474884972338\n",
      "The 3001st batch has been finished\n",
      "epoch: 1; MSE of validation set: 0.8580543365016319\n",
      "The 4001st batch has been finished\n",
      "epoch: 1; MSE of validation set: 0.857958504165124\n",
      "The 5001st batch has been finished\n",
      "epoch: 1; MSE of validation set: 0.8574398115704108\n",
      "The 6001st batch has been finished\n",
      "epoch: 1; MSE of validation set: 0.8566923145107148\n"
     ]
    }
   ],
   "source": [
    "MSE_list_0 = StochasticGradientDescent(b_U_0,b_I_0,p_0,q_0,ratings_train,learning_rate=.05,tol=1e-7,max_iter=2,batch_size=100)"
   ]
  },
  {
   "cell_type": "code",
   "execution_count": 463,
   "metadata": {},
   "outputs": [
    {
     "name": "stdout",
     "output_type": "stream",
     "text": [
      "The 1st batch has been finished\n",
      "epoch: 0; MSE of validation set: 1.2491544747655454\n",
      "The 2001st batch has been finished\n",
      "epoch: 0; MSE of validation set: 0.9019213596479962\n",
      "The 4001st batch has been finished\n",
      "epoch: 0; MSE of validation set: 0.876952405976691\n",
      "The 6001st batch has been finished\n",
      "epoch: 0; MSE of validation set: 0.8683447173541232\n",
      "The 8001st batch has been finished\n",
      "epoch: 0; MSE of validation set: 0.8591725107502907\n",
      "The 10001st batch has been finished\n",
      "epoch: 0; MSE of validation set: 0.8582233377553917\n",
      "The 12001st batch has been finished\n",
      "epoch: 0; MSE of validation set: 0.8577516752470814\n",
      "The 1st batch has been finished\n",
      "epoch: 1; MSE of validation set: 0.8571602830416074\n",
      "The 2001st batch has been finished\n",
      "epoch: 1; MSE of validation set: 0.8590671790579798\n",
      "The 4001st batch has been finished\n",
      "epoch: 1; MSE of validation set: 0.8615727221406322\n",
      "The 6001st batch has been finished\n",
      "epoch: 1; MSE of validation set: 0.8587426855942916\n",
      "The 8001st batch has been finished\n",
      "epoch: 1; MSE of validation set: 0.8591586721917635\n",
      "The 10001st batch has been finished\n",
      "epoch: 1; MSE of validation set: 0.8572006930204822\n",
      "The 12001st batch has been finished\n",
      "epoch: 1; MSE of validation set: 0.8577581381556458\n"
     ]
    }
   ],
   "source": [
    "train_0, validation_0 = StochasticGradientDescent(b_U_0,b_I_0,p_0,q_0,ratings_train,learning_rate=.05,tol=1e-7,max_iter=2,batch_size=50)"
   ]
  },
  {
   "cell_type": "code",
   "execution_count": 464,
   "metadata": {},
   "outputs": [
    {
     "data": {
      "image/png": "[encoded data removed]",
      "text/plain": [
       "<Figure size 432x288 with 1 Axes>"
      ]
     },
     "metadata": {},
     "output_type": "display_data"
    }
   ],
   "source": [
    "import matplotlib.pyplot as plt\n",
    "import seaborn as sns\n",
    "sns.set()\n",
    "plt.plot(validation_0)\n",
    "plt.show()"
   ]
  },
  {
   "cell_type": "markdown",
   "metadata": {},
   "source": [
    "## Step 9 find models with good preformances"
   ]
  },
  {
   "cell_type": "markdown",
   "metadata": {},
   "source": [
    "#### $\\lambda_p$ has no significant influence on models' performance, so I set $\\lambda_p$=.1\n",
    "#### According to step 8, when epoch is greater than 2, mse has no significant decrease, so we set epoch = 2"
   ]
  },
  {
   "cell_type": "code",
   "execution_count": 419,
   "metadata": {},
   "outputs": [],
   "source": [
    "F = 10\n",
    "b_U_0, b_I_0, p_0, q_0 = initial_parameters(U,I,F)\n",
    "lambda_p = .1\n",
    "mu = ratings_train['Rating'].mean()"
   ]
  },
  {
   "cell_type": "code",
   "execution_count": 426,
   "metadata": {},
   "outputs": [
    {
     "name": "stdout",
     "output_type": "stream",
     "text": [
      "The 1st batch has been finished\n",
      "epoch: 0; MSE of validation set: 1.3498880995500888\n",
      "The 10001st batch has been finished\n",
      "epoch: 0; MSE of validation set: 0.9498850722713259\n",
      "The 20001st batch has been finished\n",
      "epoch: 0; MSE of validation set: 0.8985575209708462\n",
      "The 30001st batch has been finished\n",
      "epoch: 0; MSE of validation set: 0.8776176770008224\n",
      "The 40001st batch has been finished\n",
      "epoch: 0; MSE of validation set: 0.8711392545470951\n",
      "The 50001st batch has been finished\n",
      "epoch: 0; MSE of validation set: 0.8668424371784844\n",
      "The 60001st batch has been finished\n",
      "epoch: 0; MSE of validation set: 0.8607435780609877\n"
     ]
    }
   ],
   "source": [
    "b_U_,b_I_,p_,q_ = StochasticGradientDescent(b_U_0,b_I_0,p_0,q_0,ratings_train,learning_rate=.05,tol=1e-7,max_iter=1,batch_size=10)"
   ]
  },
  {
   "cell_type": "code",
   "execution_count": 428,
   "metadata": {},
   "outputs": [
    {
     "name": "stdout",
     "output_type": "stream",
     "text": [
      "The 1st batch has been finished\n",
      "epoch: 0; MSE of validation set: 1.3531993655366583\n",
      "The 2001st batch has been finished\n",
      "epoch: 0; MSE of validation set: 1.1228051529711618\n",
      "The 4001st batch has been finished\n",
      "epoch: 0; MSE of validation set: 0.9970816298078942\n",
      "The 6001st batch has been finished\n",
      "epoch: 0; MSE of validation set: 0.939986991519805\n",
      "The 8001st batch has been finished\n",
      "epoch: 0; MSE of validation set: 0.9077218307575815\n",
      "The 10001st batch has been finished\n",
      "epoch: 0; MSE of validation set: 0.8878455490780386\n",
      "The 12001st batch has been finished\n",
      "epoch: 0; MSE of validation set: 0.8756011595242967\n"
     ]
    }
   ],
   "source": [
    "b_U_,b_I_,p_,q_ = StochasticGradientDescent(b_U_0,b_I_0,p_0,q_0,ratings_train,learning_rate=.05,tol=1e-7,max_iter=1,batch_size=50)"
   ]
  },
  {
   "cell_type": "code",
   "execution_count": 435,
   "metadata": {},
   "outputs": [
    {
     "name": "stdout",
     "output_type": "stream",
     "text": [
      "The 1st batch has been finished\n",
      "epoch: 0; MSE of validation set: 1.3578545262178134\n",
      "The 1001st batch has been finished\n",
      "epoch: 0; MSE of validation set: nan\n",
      "The 2001st batch has been finished\n",
      "epoch: 0; MSE of validation set: nan\n",
      "The 3001st batch has been finished\n",
      "epoch: 0; MSE of validation set: nan\n",
      "The 4001st batch has been finished\n",
      "epoch: 0; MSE of validation set: nan\n",
      "The 5001st batch has been finished\n",
      "epoch: 0; MSE of validation set: nan\n",
      "The 6001st batch has been finished\n",
      "epoch: 0; MSE of validation set: nan\n"
     ]
    }
   ],
   "source": [
    "b_U_,b_I_,p_,q_ = StochasticGradientDescent(b_U_0,b_I_0,p_0,q_0,ratings_train,learning_rate=.05,tol=1e-7,max_iter=1,batch_size=100)"
   ]
  },
  {
   "cell_type": "markdown",
   "metadata": {},
   "source": [
    "### So we set batch size = 50 "
   ]
  },
  {
   "cell_type": "markdown",
   "metadata": {},
   "source": [
    "### First Model:\n",
    "$\\lambda_p$ = .1.<br/>\n",
    "epoch = 2<br/>\n",
    "B = 50<br/>\n",
    "learning_rate = .025<br/>\n",
    "F = 10<br/>\n",
    "<br/>\n",
    "Performance on validation set = 0.84"
   ]
  },
  {
   "cell_type": "code",
   "execution_count": 446,
   "metadata": {},
   "outputs": [],
   "source": [
    "F = 10\n",
    "b_U_0, b_I_0, p_0, q_0 = initial_parameters(U,I,F)\n",
    "lambda_p = .1\n",
    "mu = ratings_train['Rating'].mean()"
   ]
  },
  {
   "cell_type": "code",
   "execution_count": 445,
   "metadata": {
    "scrolled": true
   },
   "outputs": [
    {
     "name": "stdout",
     "output_type": "stream",
     "text": [
      "The 1st batch has been finished\n",
      "epoch: 0; MSE of validation set: 1.3582258221432109\n",
      "The 2001st batch has been finished\n",
      "epoch: 0; MSE of validation set: 1.0512620979225717\n",
      "The 4001st batch has been finished\n",
      "epoch: 0; MSE of validation set: 0.9567670981383799\n",
      "The 6001st batch has been finished\n",
      "epoch: 0; MSE of validation set: 0.9143457923411055\n",
      "The 8001st batch has been finished\n",
      "epoch: 0; MSE of validation set: 0.8900608449630348\n",
      "The 10001st batch has been finished\n",
      "epoch: 0; MSE of validation set: 0.8722958257764422\n",
      "The 12001st batch has been finished\n",
      "epoch: 0; MSE of validation set: 0.8643655504724487\n",
      "The 1st batch has been finished\n",
      "epoch: 1; MSE of validation set: 0.8630629609381072\n",
      "The 2001st batch has been finished\n",
      "epoch: 1; MSE of validation set: 0.858579638548245\n",
      "The 4001st batch has been finished\n",
      "epoch: 1; MSE of validation set: 0.855766192878273\n",
      "The 6001st batch has been finished\n",
      "epoch: 1; MSE of validation set: 0.8512331114668784\n",
      "The 8001st batch has been finished\n",
      "epoch: 1; MSE of validation set: 0.8478587181585918\n",
      "The 10001st batch has been finished\n",
      "epoch: 1; MSE of validation set: 0.8463356762094362\n",
      "The 12001st batch has been finished\n",
      "epoch: 1; MSE of validation set: 0.842990789678398\n"
     ]
    }
   ],
   "source": [
    "train_1, validation_1 = StochasticGradientDescent(b_U_0,b_I_0,p_0,q_0,ratings_train,learning_rate=.025,tol=1e-7,max_iter=2,batch_size=50)"
   ]
  },
  {
   "cell_type": "markdown",
   "metadata": {},
   "source": [
    "### Second Model:\n",
    "$\\lambda_p$ = .1.<br/>\n",
    "epoch = 2<br/>\n",
    "B = 50<br/>\n",
    "learning_rate = .02<br/>\n",
    "F = 50<br/>\n",
    "<br/>\n",
    "Performance on validation set = 0.836"
   ]
  },
  {
   "cell_type": "code",
   "execution_count": 447,
   "metadata": {},
   "outputs": [],
   "source": [
    "F = 50\n",
    "b_U_0, b_I_0, p_0, q_0 = initial_parameters(U,I,F)\n",
    "lambda_p = .1\n",
    "mu = ratings_train['Rating'].mean()"
   ]
  },
  {
   "cell_type": "code",
   "execution_count": 454,
   "metadata": {
    "scrolled": true
   },
   "outputs": [
    {
     "name": "stdout",
     "output_type": "stream",
     "text": [
      "The 1st batch has been finished\n",
      "epoch: 0; MSE of validation set: 1.2706684185013237\n",
      "The 2001st batch has been finished\n",
      "epoch: 0; MSE of validation set: 0.9708791206192199\n",
      "The 4001st batch has been finished\n",
      "epoch: 0; MSE of validation set: 0.9115998701860811\n",
      "The 6001st batch has been finished\n",
      "epoch: 0; MSE of validation set: 0.8859451891877239\n",
      "The 8001st batch has been finished\n",
      "epoch: 0; MSE of validation set: 0.8670356619287028\n",
      "The 10001st batch has been finished\n",
      "epoch: 0; MSE of validation set: 0.8582846074872544\n",
      "The 12001st batch has been finished\n",
      "epoch: 0; MSE of validation set: 0.8515711574130255\n",
      "The 1st batch has been finished\n",
      "epoch: 1; MSE of validation set: 0.8504458984075758\n",
      "The 2001st batch has been finished\n",
      "epoch: 1; MSE of validation set: 0.8485425641448439\n",
      "The 4001st batch has been finished\n",
      "epoch: 1; MSE of validation set: 0.8448951016809603\n",
      "The 6001st batch has been finished\n",
      "epoch: 1; MSE of validation set: 0.8445905705199386\n",
      "The 8001st batch has been finished\n",
      "epoch: 1; MSE of validation set: 0.8410407610387481\n",
      "The 10001st batch has been finished\n",
      "epoch: 1; MSE of validation set: 0.8380408279945153\n",
      "The 12001st batch has been finished\n",
      "epoch: 1; MSE of validation set: 0.835939432509198\n"
     ]
    }
   ],
   "source": [
    "train_2, validation_2 = StochasticGradientDescent(b_U_0,b_I_0,p_0,q_0,ratings_train,learning_rate=.02,tol=1e-7,max_iter=2,batch_size=50)"
   ]
  },
  {
   "cell_type": "markdown",
   "metadata": {},
   "source": [
    "### Third Model:\n",
    "$\\lambda_p$ = .1.<br/>\n",
    "epoch = 2<br/>\n",
    "B = 50<br/>\n",
    "learning_rate = .02<br/>\n",
    "F = 100<br/>\n",
    "<br/>\n",
    "Performance on validation set = 0.835"
   ]
  },
  {
   "cell_type": "code",
   "execution_count": 455,
   "metadata": {},
   "outputs": [],
   "source": [
    "F = 100\n",
    "b_U_0, b_I_0, p_0, q_0 = initial_parameters(U,I,F)\n",
    "lambda_p = .1\n",
    "mu = ratings_train['Rating'].mean()"
   ]
  },
  {
   "cell_type": "code",
   "execution_count": 461,
   "metadata": {
    "scrolled": true
   },
   "outputs": [
    {
     "name": "stdout",
     "output_type": "stream",
     "text": [
      "The 1st batch has been finished\n",
      "epoch: 0; MSE of validation set: 1.259524682815055\n",
      "The 2001st batch has been finished\n",
      "epoch: 0; MSE of validation set: 0.9543576100383367\n",
      "The 4001st batch has been finished\n",
      "epoch: 0; MSE of validation set: 0.8988764674151152\n",
      "The 6001st batch has been finished\n",
      "epoch: 0; MSE of validation set: 0.8746185674919366\n",
      "The 8001st batch has been finished\n",
      "epoch: 0; MSE of validation set: 0.8634906182417588\n",
      "The 10001st batch has been finished\n",
      "epoch: 0; MSE of validation set: 0.8542871417104662\n",
      "The 12001st batch has been finished\n",
      "epoch: 0; MSE of validation set: 0.8476488649413996\n",
      "The 1st batch has been finished\n",
      "epoch: 1; MSE of validation set: 0.8457163976763549\n",
      "The 2001st batch has been finished\n",
      "epoch: 1; MSE of validation set: 0.8455494611755698\n",
      "The 4001st batch has been finished\n",
      "epoch: 1; MSE of validation set: 0.8434729674037038\n",
      "The 6001st batch has been finished\n",
      "epoch: 1; MSE of validation set: 0.8416535824609725\n",
      "The 8001st batch has been finished\n",
      "epoch: 1; MSE of validation set: 0.8388690806556347\n",
      "The 10001st batch has been finished\n",
      "epoch: 1; MSE of validation set: 0.8365957220705035\n",
      "The 12001st batch has been finished\n",
      "epoch: 1; MSE of validation set: 0.8354212804629123\n"
     ]
    }
   ],
   "source": [
    "train_3, validation_3 = StochasticGradientDescent(b_U_0,b_I_0,p_0,q_0,ratings_train,learning_rate=.02,tol=1e-7,max_iter=2,batch_size=50)"
   ]
  },
  {
   "cell_type": "code",
   "execution_count": 476,
   "metadata": {},
   "outputs": [
    {
     "data": {
      "image/png": "[encoded data removed]",
      "text/plain": [
       "<Figure size 720x360 with 1 Axes>"
      ]
     },
     "metadata": {},
     "output_type": "display_data"
    }
   ],
   "source": [
    "sns.set()\n",
    "plt.figure(figsize=(10,5))\n",
    "plt.plot(validation_0, label='F = 0')\n",
    "plt.plot(validation_1, label='F = 10')\n",
    "plt.plot(validation_2, label='F = 50')\n",
    "plt.plot(validation_3, label='F = 100')\n",
    "plt.legend()\n",
    "plt.show()"
   ]
  },
  {
   "cell_type": "code",
   "execution_count": 475,
   "metadata": {},
   "outputs": [
    {
     "data": {
      "image/png": "[encoded data removed]",
      "text/plain": [
       "<Figure size 720x360 with 1 Axes>"
      ]
     },
     "metadata": {},
     "output_type": "display_data"
    }
   ],
   "source": [
    "sns.set()\n",
    "plt.figure(figsize=(10,5))\n",
    "plt.ylim([0.8, 1])\n",
    "plt.plot(validation_0, label='F = 0')\n",
    "plt.plot(validation_1, label='F = 10')\n",
    "plt.plot(validation_2, label='F = 50')\n",
    "plt.plot(validation_3, label='F = 100')\n",
    "plt.legend()\n",
    "plt.show()"
   ]
  },
  {
   "cell_type": "markdown",
   "metadata": {},
   "source": [
    "# Step 10 5-Fold cross validation to find the best model"
   ]
  },
  {
   "cell_type": "code",
   "execution_count": 486,
   "metadata": {},
   "outputs": [],
   "source": [
    "from sklearn.model_selection import KFold"
   ]
  },
  {
   "cell_type": "code",
   "execution_count": 494,
   "metadata": {},
   "outputs": [
    {
     "data": {
      "text/plain": [
       "5"
      ]
     },
     "execution_count": 494,
     "metadata": {},
     "output_type": "execute_result"
    }
   ],
   "source": [
    "kf = KFold(n_splits=5)\n",
    "ratings_fold = pd.concat([ratings_train, ratings_validation])\n",
    "kf.get_n_splits(ratings_fold)"
   ]
  },
  {
   "cell_type": "code",
   "execution_count": 497,
   "metadata": {
    "scrolled": true
   },
   "outputs": [
    {
     "name": "stdout",
     "output_type": "stream",
     "text": [
      "The 1st batch has been finished\n",
      "epoch: 0; MSE of test set: 1.342135424893671\n",
      "The 2001st batch has been finished\n",
      "epoch: 0; MSE of test set: 1.042891523120401\n",
      "The 4001st batch has been finished\n",
      "epoch: 0; MSE of test set: 0.9625193407107709\n",
      "The 6001st batch has been finished\n",
      "epoch: 0; MSE of test set: 0.917624591260676\n",
      "The 8001st batch has been finished\n",
      "epoch: 0; MSE of test set: 0.8943795395227482\n",
      "The 10001st batch has been finished\n",
      "epoch: 0; MSE of test set: 0.8774926765072094\n",
      "The 12001st batch has been finished\n",
      "epoch: 0; MSE of test set: 0.8676009839370621\n",
      "The 1st batch has been finished\n",
      "epoch: 1; MSE of test set: 0.8604889407596971\n",
      "The 2001st batch has been finished\n",
      "epoch: 1; MSE of test set: 0.8586775636920754\n",
      "The 4001st batch has been finished\n",
      "epoch: 1; MSE of test set: 0.8540828551096057\n",
      "The 6001st batch has been finished\n",
      "epoch: 1; MSE of test set: 0.8513275489263916\n",
      "The 8001st batch has been finished\n",
      "epoch: 1; MSE of test set: 0.8513882628091638\n",
      "The 10001st batch has been finished\n",
      "epoch: 1; MSE of test set: 0.849068667400314\n",
      "The 12001st batch has been finished\n",
      "epoch: 1; MSE of test set: 0.8462141686895295\n",
      "The 1st batch has been finished\n",
      "epoch: 0; MSE of test set: 1.3449124848715155\n",
      "The 2001st batch has been finished\n",
      "epoch: 0; MSE of test set: 1.0501432946743252\n",
      "The 4001st batch has been finished\n",
      "epoch: 0; MSE of test set: 0.9646292013133893\n",
      "The 6001st batch has been finished\n",
      "epoch: 0; MSE of test set: 0.9204386403032874\n",
      "The 8001st batch has been finished\n",
      "epoch: 0; MSE of test set: 0.8960594064142655\n",
      "The 10001st batch has been finished\n",
      "epoch: 0; MSE of test set: 0.880168432053875\n",
      "The 12001st batch has been finished\n",
      "epoch: 0; MSE of test set: 0.8718910654646358\n",
      "The 1st batch has been finished\n",
      "epoch: 1; MSE of test set: 0.8641541133927092\n",
      "The 2001st batch has been finished\n",
      "epoch: 1; MSE of test set: 0.8625731902399434\n",
      "The 4001st batch has been finished\n",
      "epoch: 1; MSE of test set: 0.8593827706833802\n",
      "The 6001st batch has been finished\n",
      "epoch: 1; MSE of test set: 0.8537677229293497\n",
      "The 8001st batch has been finished\n",
      "epoch: 1; MSE of test set: 0.8547575542599383\n",
      "The 10001st batch has been finished\n",
      "epoch: 1; MSE of test set: 0.8495630928675058\n",
      "The 12001st batch has been finished\n",
      "epoch: 1; MSE of test set: 0.8492413183115871\n",
      "The 1st batch has been finished\n",
      "epoch: 0; MSE of test set: 1.346028265477183\n",
      "The 2001st batch has been finished\n",
      "epoch: 0; MSE of test set: 1.0424426262601183\n",
      "The 4001st batch has been finished\n",
      "epoch: 0; MSE of test set: 0.9637981708272731\n",
      "The 6001st batch has been finished\n",
      "epoch: 0; MSE of test set: 0.9208638589956414\n",
      "The 8001st batch has been finished\n",
      "epoch: 0; MSE of test set: 0.892085203178923\n",
      "The 10001st batch has been finished\n",
      "epoch: 0; MSE of test set: 0.8743256742034894\n",
      "The 12001st batch has been finished\n",
      "epoch: 0; MSE of test set: 0.8659728764260045\n",
      "The 1st batch has been finished\n",
      "epoch: 1; MSE of test set: 0.8591631961309458\n",
      "The 2001st batch has been finished\n",
      "epoch: 1; MSE of test set: 0.8586797497343409\n",
      "The 4001st batch has been finished\n",
      "epoch: 1; MSE of test set: 0.8552429629837616\n",
      "The 6001st batch has been finished\n",
      "epoch: 1; MSE of test set: 0.8523606155933926\n",
      "The 8001st batch has been finished\n",
      "epoch: 1; MSE of test set: 0.848207662965817\n",
      "The 10001st batch has been finished\n",
      "epoch: 1; MSE of test set: 0.8449671039796371\n",
      "The 12001st batch has been finished\n",
      "epoch: 1; MSE of test set: 0.842386246106693\n",
      "The 1st batch has been finished\n",
      "epoch: 0; MSE of test set: 1.3482241608366987\n",
      "The 2001st batch has been finished\n",
      "epoch: 0; MSE of test set: 1.0510183828086836\n",
      "The 4001st batch has been finished\n",
      "epoch: 0; MSE of test set: 0.9634138499403921\n",
      "The 6001st batch has been finished\n",
      "epoch: 0; MSE of test set: 0.9192003900779208\n",
      "The 8001st batch has been finished\n",
      "epoch: 0; MSE of test set: 0.8935226516544048\n",
      "The 10001st batch has been finished\n",
      "epoch: 0; MSE of test set: 0.8803181199538826\n",
      "The 12001st batch has been finished\n",
      "epoch: 0; MSE of test set: 0.8706238904811183\n",
      "The 1st batch has been finished\n",
      "epoch: 1; MSE of test set: 0.8651298828804389\n",
      "The 2001st batch has been finished\n",
      "epoch: 1; MSE of test set: 0.8636725773537908\n",
      "The 4001st batch has been finished\n",
      "epoch: 1; MSE of test set: 0.8594093417236656\n",
      "The 6001st batch has been finished\n",
      "epoch: 1; MSE of test set: 0.8573093901602624\n",
      "The 8001st batch has been finished\n",
      "epoch: 1; MSE of test set: 0.8517067787905985\n",
      "The 10001st batch has been finished\n",
      "epoch: 1; MSE of test set: 0.8510583964688403\n",
      "The 12001st batch has been finished\n",
      "epoch: 1; MSE of test set: 0.8502263321841759\n",
      "The 1st batch has been finished\n",
      "epoch: 0; MSE of test set: 1.3458432592836966\n",
      "The 2001st batch has been finished\n",
      "epoch: 0; MSE of test set: 1.0467104197630337\n",
      "The 4001st batch has been finished\n",
      "epoch: 0; MSE of test set: 0.9603689426490872\n",
      "The 6001st batch has been finished\n",
      "epoch: 0; MSE of test set: 0.9168223098644234\n",
      "The 8001st batch has been finished\n",
      "epoch: 0; MSE of test set: 0.8935321893556414\n",
      "The 10001st batch has been finished\n",
      "epoch: 0; MSE of test set: 0.8784656251096481\n",
      "The 12001st batch has been finished\n",
      "epoch: 0; MSE of test set: 0.8692147132859193\n",
      "The 1st batch has been finished\n",
      "epoch: 1; MSE of test set: 0.8647032443968808\n",
      "The 2001st batch has been finished\n",
      "epoch: 1; MSE of test set: 0.8625209214959829\n",
      "The 4001st batch has been finished\n",
      "epoch: 1; MSE of test set: 0.8592806028989752\n",
      "The 6001st batch has been finished\n",
      "epoch: 1; MSE of test set: 0.856249545624809\n",
      "The 8001st batch has been finished\n",
      "epoch: 1; MSE of test set: 0.8514567827477647\n",
      "The 10001st batch has been finished\n",
      "epoch: 1; MSE of test set: 0.8512719483737439\n",
      "The 12001st batch has been finished\n",
      "epoch: 1; MSE of test set: 0.84902745916756\n"
     ]
    },
    {
     "data": {
      "text/plain": [
       "0.8468436822273077"
      ]
     },
     "execution_count": 497,
     "metadata": {},
     "output_type": "execute_result"
    }
   ],
   "source": [
    "F = 10\n",
    "b_U_0, b_I_0, p_0, q_0 = initial_parameters(U,I,F)\n",
    "lambda_p = .1\n",
    "mu = ratings_train['Rating'].mean()\n",
    "\n",
    "result_1 = 0\n",
    "for train_index, test_index in kf.split(ratings_fold):\n",
    "    X_train, X_test = ratings_fold.iloc[train_index], ratings_fold.iloc[test_index]\n",
    "    result_1 += StochasticGradientDescent(b_U_0,b_I_0,p_0,q_0,X_train,learning_rate=.025,tol=1e-7,max_iter=2,batch_size=50)\n",
    "result_1/5"
   ]
  },
  {
   "cell_type": "code",
   "execution_count": 498,
   "metadata": {
    "scrolled": true
   },
   "outputs": [
    {
     "name": "stdout",
     "output_type": "stream",
     "text": [
      "The 1st batch has been finished\n",
      "epoch: 0; MSE of test set: 1.2659057026174283\n",
      "The 2001st batch has been finished\n",
      "epoch: 0; MSE of test set: 0.9539892019341676\n",
      "The 4001st batch has been finished\n",
      "epoch: 0; MSE of test set: 0.8862623058450464\n",
      "The 6001st batch has been finished\n",
      "epoch: 0; MSE of test set: 0.8558656317104858\n",
      "The 8001st batch has been finished\n",
      "epoch: 0; MSE of test set: 0.8362185616106066\n",
      "The 10001st batch has been finished\n",
      "epoch: 0; MSE of test set: 0.8228514687447402\n",
      "The 12001st batch has been finished\n",
      "epoch: 0; MSE of test set: 0.8154618308280719\n",
      "The 1st batch has been finished\n",
      "epoch: 1; MSE of test set: 0.8130942614370689\n",
      "The 2001st batch has been finished\n",
      "epoch: 1; MSE of test set: 0.8115260962039806\n",
      "The 4001st batch has been finished\n",
      "epoch: 1; MSE of test set: 0.8079607022905012\n",
      "The 6001st batch has been finished\n",
      "epoch: 1; MSE of test set: 0.8036925679902296\n",
      "The 8001st batch has been finished\n",
      "epoch: 1; MSE of test set: 0.8010865700506299\n",
      "The 10001st batch has been finished\n",
      "epoch: 1; MSE of test set: 0.7987127216647927\n",
      "The 12001st batch has been finished\n",
      "epoch: 1; MSE of test set: 0.7960706446851533\n",
      "The 1st batch has been finished\n",
      "epoch: 0; MSE of test set: 1.2681702993168118\n",
      "The 2001st batch has been finished\n",
      "epoch: 0; MSE of test set: 0.9518974931061432\n",
      "The 4001st batch has been finished\n",
      "epoch: 0; MSE of test set: 0.8870913005598081\n",
      "The 6001st batch has been finished\n",
      "epoch: 0; MSE of test set: 0.8565416100630547\n",
      "The 8001st batch has been finished\n",
      "epoch: 0; MSE of test set: 0.8382005648667407\n",
      "The 10001st batch has been finished\n",
      "epoch: 0; MSE of test set: 0.8271465654176128\n",
      "The 12001st batch has been finished\n",
      "epoch: 0; MSE of test set: 0.8176306989375987\n",
      "The 1st batch has been finished\n",
      "epoch: 1; MSE of test set: 0.8135895444409224\n",
      "The 2001st batch has been finished\n",
      "epoch: 1; MSE of test set: 0.8129780112426835\n",
      "The 4001st batch has been finished\n",
      "epoch: 1; MSE of test set: 0.8093732889408036\n",
      "The 6001st batch has been finished\n",
      "epoch: 1; MSE of test set: 0.8052389940008297\n",
      "The 8001st batch has been finished\n",
      "epoch: 1; MSE of test set: 0.8031388363274019\n",
      "The 10001st batch has been finished\n",
      "epoch: 1; MSE of test set: 0.8007406495072876\n",
      "The 12001st batch has been finished\n",
      "epoch: 1; MSE of test set: 0.7988572289097604\n",
      "The 1st batch has been finished\n",
      "epoch: 0; MSE of test set: 1.26623565386596\n",
      "The 2001st batch has been finished\n",
      "epoch: 0; MSE of test set: 0.9479101182131052\n",
      "The 4001st batch has been finished\n",
      "epoch: 0; MSE of test set: 0.8841893662279048\n",
      "The 6001st batch has been finished\n",
      "epoch: 0; MSE of test set: 0.8529628890995852\n",
      "The 8001st batch has been finished\n",
      "epoch: 0; MSE of test set: 0.832378734721967\n",
      "The 10001st batch has been finished\n",
      "epoch: 0; MSE of test set: 0.8211768606198839\n",
      "The 12001st batch has been finished\n",
      "epoch: 0; MSE of test set: 0.8137170016909993\n",
      "The 1st batch has been finished\n",
      "epoch: 1; MSE of test set: 0.8125133023900655\n",
      "The 2001st batch has been finished\n",
      "epoch: 1; MSE of test set: 0.8097201564622232\n",
      "The 4001st batch has been finished\n",
      "epoch: 1; MSE of test set: 0.8053325299427191\n",
      "The 6001st batch has been finished\n",
      "epoch: 1; MSE of test set: 0.8016727406200601\n",
      "The 8001st batch has been finished\n",
      "epoch: 1; MSE of test set: 0.798694579493089\n",
      "The 10001st batch has been finished\n",
      "epoch: 1; MSE of test set: 0.795779794858391\n",
      "The 12001st batch has been finished\n",
      "epoch: 1; MSE of test set: 0.7955578115075215\n",
      "The 1st batch has been finished\n",
      "epoch: 0; MSE of test set: 1.2678895040653533\n",
      "The 2001st batch has been finished\n",
      "epoch: 0; MSE of test set: 0.959702502090137\n",
      "The 4001st batch has been finished\n",
      "epoch: 0; MSE of test set: 0.893644537475522\n",
      "The 6001st batch has been finished\n",
      "epoch: 0; MSE of test set: 0.8627942939160183\n",
      "The 8001st batch has been finished\n",
      "epoch: 0; MSE of test set: 0.8449061395417564\n",
      "The 10001st batch has been finished\n",
      "epoch: 0; MSE of test set: 0.8344605665368753\n",
      "The 12001st batch has been finished\n",
      "epoch: 0; MSE of test set: 0.8258970587614761\n",
      "The 1st batch has been finished\n",
      "epoch: 1; MSE of test set: 0.8242686698779389\n",
      "The 2001st batch has been finished\n",
      "epoch: 1; MSE of test set: 0.8219243634298806\n",
      "The 4001st batch has been finished\n",
      "epoch: 1; MSE of test set: 0.8171656288071475\n",
      "The 6001st batch has been finished\n",
      "epoch: 1; MSE of test set: 0.8153724321813636\n",
      "The 8001st batch has been finished\n",
      "epoch: 1; MSE of test set: 0.8127553030382475\n",
      "The 10001st batch has been finished\n",
      "epoch: 1; MSE of test set: 0.8102151238336617\n",
      "The 12001st batch has been finished\n",
      "epoch: 1; MSE of test set: 0.8094710227252627\n",
      "The 1st batch has been finished\n",
      "epoch: 0; MSE of test set: 1.26702315057188\n",
      "The 2001st batch has been finished\n",
      "epoch: 0; MSE of test set: 0.9706691381165259\n",
      "The 4001st batch has been finished\n",
      "epoch: 0; MSE of test set: 0.9120354678442927\n",
      "The 6001st batch has been finished\n",
      "epoch: 0; MSE of test set: 0.886761598538836\n",
      "The 8001st batch has been finished\n",
      "epoch: 0; MSE of test set: 0.8711056868728553\n",
      "The 10001st batch has been finished\n",
      "epoch: 0; MSE of test set: 0.8620138786752992\n",
      "The 12001st batch has been finished\n",
      "epoch: 0; MSE of test set: 0.8563323910664289\n",
      "The 1st batch has been finished\n",
      "epoch: 1; MSE of test set: 0.854245435810087\n",
      "The 2001st batch has been finished\n",
      "epoch: 1; MSE of test set: 0.8534004517652833\n",
      "The 4001st batch has been finished\n",
      "epoch: 1; MSE of test set: 0.8504997985739045\n",
      "The 6001st batch has been finished\n",
      "epoch: 1; MSE of test set: 0.8487098403618316\n",
      "The 8001st batch has been finished\n",
      "epoch: 1; MSE of test set: 0.8451240470388839\n",
      "The 10001st batch has been finished\n",
      "epoch: 1; MSE of test set: 0.8435998505125037\n",
      "The 12001st batch has been finished\n",
      "epoch: 1; MSE of test set: 0.8421974497396063\n"
     ]
    },
    {
     "data": {
      "text/plain": [
       "0.807993386138848"
      ]
     },
     "execution_count": 498,
     "metadata": {},
     "output_type": "execute_result"
    }
   ],
   "source": [
    "F = 50\n",
    "b_U_0, b_I_0, p_0, q_0 = initial_parameters(U,I,F)\n",
    "lambda_p = .1\n",
    "mu = ratings_train['Rating'].mean()\n",
    "\n",
    "result_2 = 0\n",
    "for train_index, test_index in kf.split(ratings_fold):\n",
    "    X_train, X_test = ratings_fold.iloc[train_index], ratings_fold.iloc[test_index]\n",
    "    result_2 += StochasticGradientDescent(b_U_0,b_I_0,p_0,q_0,ratings_train,learning_rate=.02,tol=1e-7,max_iter=2,batch_size=50)\n",
    "result_2/5"
   ]
  },
  {
   "cell_type": "code",
   "execution_count": 500,
   "metadata": {
    "scrolled": true
   },
   "outputs": [
    {
     "name": "stdout",
     "output_type": "stream",
     "text": [
      "The 1st batch has been finished\n",
      "epoch: 0; MSE of test set: 1.2563485744371305\n",
      "The 2001st batch has been finished\n",
      "epoch: 0; MSE of test set: 0.9385771046148726\n",
      "The 4001st batch has been finished\n",
      "epoch: 0; MSE of test set: 0.876299695750274\n",
      "The 6001st batch has been finished\n",
      "epoch: 0; MSE of test set: 0.8472828574396264\n",
      "The 8001st batch has been finished\n",
      "epoch: 0; MSE of test set: 0.8300142052911237\n",
      "The 10001st batch has been finished\n",
      "epoch: 0; MSE of test set: 0.8193052725553993\n",
      "The 12001st batch has been finished\n",
      "epoch: 0; MSE of test set: 0.8129946894818959\n",
      "The 1st batch has been finished\n",
      "epoch: 1; MSE of test set: 0.8102595072802801\n",
      "The 2001st batch has been finished\n",
      "epoch: 1; MSE of test set: 0.8077971378409605\n",
      "The 4001st batch has been finished\n",
      "epoch: 1; MSE of test set: 0.8044298277631866\n",
      "The 6001st batch has been finished\n",
      "epoch: 1; MSE of test set: 0.8013205216528115\n",
      "The 8001st batch has been finished\n",
      "epoch: 1; MSE of test set: 0.7986294189661642\n",
      "The 10001st batch has been finished\n",
      "epoch: 1; MSE of test set: 0.796215758853618\n",
      "The 12001st batch has been finished\n",
      "epoch: 1; MSE of test set: 0.7948783641799338\n",
      "The 1st batch has been finished\n",
      "epoch: 0; MSE of test set: 1.2565381234768394\n",
      "The 2001st batch has been finished\n",
      "epoch: 0; MSE of test set: 0.9394513968705527\n",
      "The 4001st batch has been finished\n",
      "epoch: 0; MSE of test set: 0.8784215298621467\n",
      "The 6001st batch has been finished\n",
      "epoch: 0; MSE of test set: 0.8495713315918763\n",
      "The 8001st batch has been finished\n",
      "epoch: 0; MSE of test set: 0.8316865304507138\n",
      "The 10001st batch has been finished\n",
      "epoch: 0; MSE of test set: 0.82194918879896\n",
      "The 12001st batch has been finished\n",
      "epoch: 0; MSE of test set: 0.813274395421683\n",
      "The 1st batch has been finished\n",
      "epoch: 1; MSE of test set: 0.8116027115488894\n",
      "The 2001st batch has been finished\n",
      "epoch: 1; MSE of test set: 0.8093971756270171\n",
      "The 4001st batch has been finished\n",
      "epoch: 1; MSE of test set: 0.8059988334139583\n",
      "The 6001st batch has been finished\n",
      "epoch: 1; MSE of test set: 0.8019318826082916\n",
      "The 8001st batch has been finished\n",
      "epoch: 1; MSE of test set: 0.7996895722874828\n",
      "The 10001st batch has been finished\n",
      "epoch: 1; MSE of test set: 0.7973144774585947\n",
      "The 12001st batch has been finished\n",
      "epoch: 1; MSE of test set: 0.7956511297381139\n",
      "The 1st batch has been finished\n",
      "epoch: 0; MSE of test set: 1.2567863046121277\n",
      "The 2001st batch has been finished\n",
      "epoch: 0; MSE of test set: 0.9377693927419031\n",
      "The 4001st batch has been finished\n",
      "epoch: 0; MSE of test set: 0.8735214327380083\n",
      "The 6001st batch has been finished\n",
      "epoch: 0; MSE of test set: 0.8450708398203012\n",
      "The 8001st batch has been finished\n",
      "epoch: 0; MSE of test set: 0.8280742409690981\n",
      "The 10001st batch has been finished\n",
      "epoch: 0; MSE of test set: 0.817295872491148\n",
      "The 12001st batch has been finished\n",
      "epoch: 0; MSE of test set: 0.8101373047510969\n",
      "The 1st batch has been finished\n",
      "epoch: 1; MSE of test set: 0.8091022245988696\n",
      "The 2001st batch has been finished\n",
      "epoch: 1; MSE of test set: 0.8052188173460874\n",
      "The 4001st batch has been finished\n",
      "epoch: 1; MSE of test set: 0.8011738010788473\n",
      "The 6001st batch has been finished\n",
      "epoch: 1; MSE of test set: 0.7983723189498525\n",
      "The 8001st batch has been finished\n",
      "epoch: 1; MSE of test set: 0.7956526134512462\n",
      "The 10001st batch has been finished\n",
      "epoch: 1; MSE of test set: 0.7941081547365976\n",
      "The 12001st batch has been finished\n",
      "epoch: 1; MSE of test set: 0.7921120992672469\n",
      "The 1st batch has been finished\n",
      "epoch: 0; MSE of test set: 1.2591423020097272\n",
      "The 2001st batch has been finished\n",
      "epoch: 0; MSE of test set: 0.944646225340649\n",
      "The 4001st batch has been finished\n",
      "epoch: 0; MSE of test set: 0.8840152454861314\n",
      "The 6001st batch has been finished\n",
      "epoch: 0; MSE of test set: 0.8555951504097649\n",
      "The 8001st batch has been finished\n",
      "epoch: 0; MSE of test set: 0.8392001286284733\n",
      "The 10001st batch has been finished\n",
      "epoch: 0; MSE of test set: 0.8301329653351098\n",
      "The 12001st batch has been finished\n",
      "epoch: 0; MSE of test set: 0.8223422695505835\n",
      "The 1st batch has been finished\n",
      "epoch: 1; MSE of test set: 0.8208631035604759\n",
      "The 2001st batch has been finished\n",
      "epoch: 1; MSE of test set: 0.8193042004311668\n",
      "The 4001st batch has been finished\n",
      "epoch: 1; MSE of test set: 0.8143314267255967\n",
      "The 6001st batch has been finished\n",
      "epoch: 1; MSE of test set: 0.8120848997345642\n",
      "The 8001st batch has been finished\n",
      "epoch: 1; MSE of test set: 0.81042794708314\n",
      "The 10001st batch has been finished\n",
      "epoch: 1; MSE of test set: 0.807639568500363\n",
      "The 12001st batch has been finished\n",
      "epoch: 1; MSE of test set: 0.8070559291376206\n",
      "The 1st batch has been finished\n",
      "epoch: 0; MSE of test set: 1.2579276722758403\n",
      "The 2001st batch has been finished\n",
      "epoch: 0; MSE of test set: 0.9564157437012675\n",
      "The 4001st batch has been finished\n",
      "epoch: 0; MSE of test set: 0.9023075010641533\n",
      "The 6001st batch has been finished\n",
      "epoch: 0; MSE of test set: 0.8798466392504561\n",
      "The 8001st batch has been finished\n",
      "epoch: 0; MSE of test set: 0.8664801249601801\n",
      "The 10001st batch has been finished\n",
      "epoch: 0; MSE of test set: 0.8584539382311498\n",
      "The 12001st batch has been finished\n",
      "epoch: 0; MSE of test set: 0.8539175593652643\n",
      "The 1st batch has been finished\n",
      "epoch: 1; MSE of test set: 0.8514968421343626\n",
      "The 2001st batch has been finished\n",
      "epoch: 1; MSE of test set: 0.8497840440521108\n",
      "The 4001st batch has been finished\n",
      "epoch: 1; MSE of test set: 0.8474710703112371\n",
      "The 6001st batch has been finished\n",
      "epoch: 1; MSE of test set: 0.8470077501247022\n",
      "The 8001st batch has been finished\n",
      "epoch: 1; MSE of test set: 0.8449507197369912\n",
      "The 10001st batch has been finished\n",
      "epoch: 1; MSE of test set: 0.8426762380521947\n",
      "The 12001st batch has been finished\n",
      "epoch: 1; MSE of test set: 0.8416092275947925\n"
     ]
    },
    {
     "data": {
      "text/plain": [
       "0.8055887321714732"
      ]
     },
     "execution_count": 500,
     "metadata": {},
     "output_type": "execute_result"
    }
   ],
   "source": [
    "F = 100\n",
    "b_U_0, b_I_0, p_0, q_0 = initial_parameters(U,I,F)\n",
    "lambda_p = .1\n",
    "mu = ratings_train['Rating'].mean()\n",
    "\n",
    "result_3 = 0\n",
    "for train_index, test_index in kf.split(ratings_fold):\n",
    "    X_train, X_test = ratings_fold.iloc[train_index], ratings_fold.iloc[test_index]\n",
    "    result_3 += StochasticGradientDescent(b_U_0,b_I_0,p_0,q_0,ratings_train,learning_rate=.02,tol=1e-7,max_iter=2,batch_size=50)\n",
    "result_3/5"
   ]
  },
  {
   "cell_type": "markdown",
   "metadata": {},
   "source": [
    "### So the third model is the best\n",
    "$\\lambda_p$ = .1.<br/>\n",
    "epoch = 2<br/>\n",
    "B = 50<br/>\n",
    "learning_rate = .02<br/>\n",
    "F = 100<br/>\n",
    "<br/>\n",
    "Performance on validation set = 0.835"
   ]
  },
  {
   "cell_type": "markdown",
   "metadata": {},
   "source": [
    "# Step 11 measure the performance of the best model on the test set data."
   ]
  },
  {
   "cell_type": "code",
   "execution_count": 503,
   "metadata": {
    "scrolled": true
   },
   "outputs": [
    {
     "name": "stdout",
     "output_type": "stream",
     "text": [
      "The 1st batch has been finished\n",
      "epoch: 0; MSE of test set: 1.257723461737915\n",
      "The 2001st batch has been finished\n",
      "epoch: 0; MSE of test set: 0.9449915631383656\n",
      "The 4001st batch has been finished\n",
      "epoch: 0; MSE of test set: 0.8850495361009166\n",
      "The 6001st batch has been finished\n",
      "epoch: 0; MSE of test set: 0.8587288486594735\n",
      "The 8001st batch has been finished\n",
      "epoch: 0; MSE of test set: 0.8419668442344933\n",
      "The 10001st batch has been finished\n",
      "epoch: 0; MSE of test set: 0.8318234102707314\n",
      "The 12001st batch has been finished\n",
      "epoch: 0; MSE of test set: 0.823211800867573\n",
      "The 14001st batch has been finished\n",
      "epoch: 0; MSE of test set: 0.8182521966107171\n",
      "The 16001st batch has been finished\n",
      "epoch: 0; MSE of test set: 0.8151965816991446\n",
      "The 1st batch has been finished\n",
      "epoch: 1; MSE of test set: 0.814098066227131\n",
      "The 2001st batch has been finished\n",
      "epoch: 1; MSE of test set: 0.8143508847751578\n",
      "The 4001st batch has been finished\n",
      "epoch: 1; MSE of test set: 0.8122219763603407\n",
      "The 6001st batch has been finished\n",
      "epoch: 1; MSE of test set: 0.8094379390248712\n",
      "The 8001st batch has been finished\n",
      "epoch: 1; MSE of test set: 0.8083231295960654\n",
      "The 10001st batch has been finished\n",
      "epoch: 1; MSE of test set: 0.8069289159665953\n",
      "The 12001st batch has been finished\n",
      "epoch: 1; MSE of test set: 0.8053521207306643\n",
      "The 14001st batch has been finished\n",
      "epoch: 1; MSE of test set: 0.805381838530536\n",
      "The 16001st batch has been finished\n",
      "epoch: 1; MSE of test set: 0.8038635854085604\n"
     ]
    }
   ],
   "source": [
    "F = 100\n",
    "b_U_0, b_I_0, p_0, q_0 = initial_parameters(U,I,F)\n",
    "lambda_p = .1\n",
    "mu = ratings_train['Rating'].mean()\n",
    "\n",
    "b_U_,b_I_,p_,q_ = StochasticGradientDescent(b_U_0,b_I_0,p_0,q_0,ratings_fold,learning_rate=.02,tol=1e-7,max_iter=2,batch_size=50)"
   ]
  },
  {
   "cell_type": "code",
   "execution_count": 504,
   "metadata": {},
   "outputs": [
    {
     "data": {
      "text/plain": [
       "0.8307080992065834"
      ]
     },
     "execution_count": 504,
     "metadata": {},
     "output_type": "execute_result"
    }
   ],
   "source": [
    "MSE(b_U_,b_I_,p_,q_,ratings_test)"
   ]
  },
  {
   "cell_type": "code",
   "execution_count": null,
   "metadata": {},
   "outputs": [],
   "source": []
  }
 ],
 "metadata": {
  "kernelspec": {
   "display_name": "Python 3",
   "language": "python",
   "name": "python3"
  },
  "language_info": {
   "codemirror_mode": {
    "name": "ipython",
    "version": 3
   },
   "file_extension": ".py",
   "mimetype": "text/x-python",
   "name": "python",
   "nbconvert_exporter": "python",
   "pygments_lexer": "ipython3",
   "version": "3.6.5"
  }
 },
 "nbformat": 4,
 "nbformat_minor": 2
}
